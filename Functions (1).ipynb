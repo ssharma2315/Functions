{
  "cells": [
    {
      "cell_type": "markdown",
      "source": [
        "#  1. What is the difference between a function and a method in Python?\n",
        "- A function is a reusable block of code that performs a specific task. A method is a function that is associated with an object and is defined inside a class.\n",
        "\n",
        "# 2. Explain the concept of function arguments and parameters in Python.\n",
        "- Parameters are placeholders defined in a function’s signature. They act as variables that accept values when the function is called.\n",
        "- Arguments are the actual values you pass into the function when you call it.\n",
        "\n",
        "# 3. What are the different ways to define and call a function in Python?\n",
        "-  1. Basic Function Definition and Call\n",
        "-  2. Function with Parameters\n",
        "-  3. Function with Return Values\n",
        "-  4. Lambda Functions (Anonymous Functions)\n",
        "-  5. Functions with Default Arguments\n",
        "-  6. Variable-Length Arguments (*args and **kwargs)\n",
        "-  7. Recursive Functions\n",
        "\n",
        "# 4. What is the purpose of the `return` statement in a Python function?\n",
        "- The return statement in Python is used to send a value back from a function to the place where the function was called. It’s like a boomerang—you throw out the result (the function’s processing), and it returns the output to you.\n",
        "\n",
        "# 5. What are iterators in Python and how do they differ from iterables?\n",
        "- An iterable is any object that can be looped over (iterated), like lists, tuples, dictionaries, sets, and even strings.\n",
        "- An iterator is an object that controls the iteration. It keeps track of where you are in the sequence and returns the next item each time you call next() on it.\n",
        "\n",
        "# 6. Explain the concept of generators in Python and how they are defined.\n",
        "\n",
        "-A generator is a special type of iterable that allows you to generate values on the fly without storing them all in memory. This makes generators extremely memory-efficient, especially when dealing with large datasets.\n",
        "\n",
        "# 7. What are the advantages of using generators over regular functions?\n",
        "- Generators offer several advantages over regular functions, especially when it comes to handling large data, optimizing performance, and improving memory efficiency.\n",
        "\n",
        "# 8. What is a lambda function in Python and when is it typically used?\n",
        "- A lambda function is a small, anonymous function defined using the lambda keyword. It’s often used for short, simple operations without the need to define a full function using def.\n",
        "\n",
        "# 9. Explain the purpose and usage of the `map()` function in Python.\n",
        "- The map() function is used to apply a function to each item in an iterable (like a list, tuple, or set) and returns a map object (an iterator) with the results. It’s a functional programming tool that helps you transform data efficiently.\n",
        "\n",
        "# 10. What is the difference between `map()`, `reduce()`, and `filter()` functions in Python?\n",
        "- Purpose: Applies a function to each item in an iterable and returns a new iterable with the results.\n",
        "\n",
        "Returns: A map object (iterator), which you can convert to a list.\n",
        "\n",
        "- Purpose: Reduces a sequence to a single cumulative value using a binary function.\n",
        "\n",
        "Returns: A single value (not an iterable).\n",
        "\n",
        "Note: reduce() is not built-in in Python 3; you need to import it from functools.\n",
        "\n",
        "- Purpose: Filters elements based on a condition. Only items that return True from the function are kept.\n",
        "\n",
        "Returns: A filter object (iterator), which can be converted to a list.\n",
        "\n",
        "\n",
        "\n",
        "# 11. Using pen & Paper write the internal mechanism for sum operation using  reduce function on this given list:[47,11,42,13]\n",
        "- /content/photo.jpg\n",
        "\n"
      ],
      "metadata": {
        "id": "dMQrrj3hBMG9"
      }
    },
    {
      "cell_type": "code",
      "source": [
        "# 1. Write a Python function that takes a list of numbers as input and returns the sum of all even numbers in the list.\n",
        "\n",
        "def func(a):\n",
        "    sum = 0\n",
        "    for i in a :\n",
        "        if i%2 == 0:\n",
        "          sum+=i\n",
        "        else:\n",
        "            continue\n",
        "    return sum\n",
        "\n",
        "func([1,2,3,4,5])\n"
      ],
      "metadata": {
        "colab": {
          "base_uri": "https://localhost:8080/"
        },
        "id": "VSLHMFMtOFBP",
        "outputId": "660cb624-f702-4189-8b7d-98c3a9c9100f"
      },
      "execution_count": null,
      "outputs": [
        {
          "output_type": "execute_result",
          "data": {
            "text/plain": [
              "6"
            ]
          },
          "metadata": {},
          "execution_count": 5
        }
      ]
    },
    {
      "cell_type": "code",
      "source": [
        "# 2. Create a Python function that accepts a string and returns the reverse of that string.\n",
        "\n",
        "def func(String):\n",
        "    rev_str = String[::-1]\n",
        "    for i in rev_str:\n",
        "        print(i)\n",
        "\n",
        "func(\"Saransh\")\n"
      ],
      "metadata": {
        "colab": {
          "base_uri": "https://localhost:8080/"
        },
        "id": "OeATxciHPRpo",
        "outputId": "32090b65-69a0-42af-ab39-26e76e7d7bfc"
      },
      "execution_count": null,
      "outputs": [
        {
          "output_type": "stream",
          "name": "stdout",
          "text": [
            "h\n",
            "s\n",
            "n\n",
            "a\n",
            "r\n",
            "a\n",
            "S\n"
          ]
        }
      ]
    },
    {
      "cell_type": "code",
      "source": [
        "# 3. Implement a Python function that takes a list of integers and returns a new list containing the squares of each number.\n",
        "\n",
        "def func(a):\n",
        "  l = []\n",
        "  for i in a:\n",
        "      l.append(i**2)\n",
        "  return l\n",
        "\n",
        "func([1,2,3,4])\n",
        "\n"
      ],
      "metadata": {
        "colab": {
          "base_uri": "https://localhost:8080/"
        },
        "id": "ufmQKTtQP5HV",
        "outputId": "180595fc-99d8-4921-9df6-f6595de7ce51"
      },
      "execution_count": null,
      "outputs": [
        {
          "output_type": "execute_result",
          "data": {
            "text/plain": [
              "[1, 4, 9, 16]"
            ]
          },
          "metadata": {},
          "execution_count": 9
        }
      ]
    },
    {
      "cell_type": "code",
      "source": [
        "# 4. Write a Python function that checks if a given number is prime or not from 1 to 200.\n",
        "def is_prime(n):\n",
        "    # Check for numbers less than 2 (not prime)\n",
        "    if n < 2:\n",
        "        return False\n",
        "    # Check for factors from 2 to the square root of n\n",
        "    for i in range(2, int(n**0.5) + 1):\n",
        "        if n % i == 0:\n",
        "            return False  # Found a factor, not prime\n",
        "    return True  # No factors found, it's prime\n",
        "\n",
        "# Test the function with numbers from 1 to 200\n",
        "for number in range(1, 201):\n",
        "    if is_prime(number):\n",
        "        print(number, \"is a prime number.\")"
      ],
      "metadata": {
        "id": "DgmhAaMIRS2k"
      },
      "execution_count": null,
      "outputs": []
    },
    {
      "cell_type": "code",
      "source": [
        "# 5. Create an iterator class in Python that generates the Fibonacci sequence up to a specified number of terms.\n",
        "class FibonacciIterator:\n",
        "    def __init__(self, terms):\n",
        "        \"\"\"Initialize the Fibonacci iterator with a maximum number of terms.\n",
        "\n",
        "        Args:\n",
        "            terms (int): The maximum number of Fibonacci terms to generate\n",
        "        \"\"\"\n",
        "        self.max_terms = terms\n",
        "        self.current_term = 0\n",
        "        self.a, self.b = 0, 1\n",
        "\n",
        "    def __iter__(self):\n",
        "        \"\"\"Return the iterator object itself.\"\"\"\n",
        "        # Reset the sequence when starting a new iteration\n",
        "        self.current_term = 0\n",
        "        self.a, self.b = 0, 1\n",
        "        return self\n",
        "\n",
        "    def __next__(self):\n",
        "        \"\"\"Return the next Fibonacci number.\"\"\"\n",
        "        if self.current_term >= self.max_terms:\n",
        "            # Stop iteration when we've reached the maximum terms\n",
        "            raise StopIteration\n",
        "\n",
        "        if self.current_term == 0:\n",
        "            # First term is 0\n",
        "            self.current_term += 1\n",
        "            return self.a\n",
        "        elif self.current_term == 1:\n",
        "            # Second term is 1\n",
        "            self.current_term += 1\n",
        "            return self.b\n",
        "        else:\n",
        "            # Calculate the next Fibonacci number\n",
        "            self.a, self.b = self.b, self.a + self.b\n",
        "            self.current_term += 1\n",
        "            return self.b\n",
        "fib = FibonacciIterator(10)\n",
        "\n",
        "# Use the iterator in a for loop\n",
        "print(\"Fibonacci sequence:\")\n",
        "for num in fib:\n",
        "    print(num)\n",
        "\n",
        "# You can also create a list from the iterator\n",
        "fib_list = list(FibonacciIterator(10))\n",
        "print(\"\\nFibonacci list:\", fib_list)\n",
        "\n",
        "\n"
      ],
      "metadata": {
        "colab": {
          "base_uri": "https://localhost:8080/"
        },
        "id": "y8eMmJv8Shzx",
        "outputId": "52f252b7-f315-4405-bd94-c966d2f3f44a"
      },
      "execution_count": null,
      "outputs": [
        {
          "output_type": "stream",
          "name": "stdout",
          "text": [
            "Fibonacci sequence:\n",
            "0\n",
            "1\n",
            "1\n",
            "2\n",
            "3\n",
            "5\n",
            "8\n",
            "13\n",
            "21\n",
            "34\n",
            "\n",
            "Fibonacci list: [0, 1, 1, 2, 3, 5, 8, 13, 21, 34]\n"
          ]
        }
      ]
    },
    {
      "cell_type": "code",
      "source": [
        "# 6. Write a generator function in Python that yields the powers of 2 up to a given exponent.\n",
        "def func(n):\n",
        "    for i in n :\n",
        "        yield i**2\n",
        "gen = func([2,3,4,5])\n",
        "next(gen)\n",
        "next(gen)\n",
        "next(gen)\n",
        "next(gen)"
      ],
      "metadata": {
        "colab": {
          "base_uri": "https://localhost:8080/"
        },
        "id": "Okz6Mpl2gk0F",
        "outputId": "0db6b06f-98ca-4dd1-9d50-efd4d7a0d630"
      },
      "execution_count": null,
      "outputs": [
        {
          "output_type": "execute_result",
          "data": {
            "text/plain": [
              "25"
            ]
          },
          "metadata": {},
          "execution_count": 29
        }
      ]
    },
    {
      "cell_type": "code",
      "source": [
        "# 7. Implement a generator function that reads a file line by line and yields each line as a string.\n",
        "def file_reader(filename):\n",
        "    \"\"\"\n",
        "    A generator function that reads a file line by line.\n",
        "\n",
        "    Args:\n",
        "        filename (str): Path to the file to be read\n",
        "\n",
        "    Yields:\n",
        "        str: Each line of the file as a string, with newline characters removed\n",
        "    \"\"\"\n",
        "    try:\n",
        "        with open(filename, 'r') as file:\n",
        "            for line in file:\n",
        "                yield line.rstrip('\\n')  # Strip newline character for cleaner output\n",
        "    except FileNotFoundError:\n",
        "        print(f\"Error: File '{filename}' not found.\")\n",
        "    except PermissionError:\n",
        "        print(f\"Error: No permission to read file '{filename}'.\")\n",
        "    except Exception as e:\n",
        "        print(f\"Error reading file: {e}\")\n"
      ],
      "metadata": {
        "id": "1A8pXJtIhu4R"
      },
      "execution_count": null,
      "outputs": []
    },
    {
      "cell_type": "code",
      "source": [
        "# 8. Use a lambda function in Python to sort a list of tuples based on the second element of each tuple.\n",
        "list_1 = [(\"Saransh\" , 23) , (\"Akshay\",21),(\"Shubham\",25),(\"Gaurav\",27)]\n",
        "list_1.sort(key = lambda x:x[1])\n",
        "print(list_1)\n"
      ],
      "metadata": {
        "id": "QqNz36EZv9Qy",
        "colab": {
          "base_uri": "https://localhost:8080/"
        },
        "outputId": "9b028259-510e-4634-bb10-25151e83adff"
      },
      "execution_count": null,
      "outputs": [
        {
          "output_type": "stream",
          "name": "stdout",
          "text": [
            "[('Akshay', 21), ('Saransh', 23), ('Shubham', 25), ('Gaurav', 27)]\n"
          ]
        }
      ]
    },
    {
      "cell_type": "code",
      "source": [
        "# 9. Write a Python program that uses `map()` to convert a list of temperatures from Celsius to Fahrenheit.\n",
        "\n",
        "celsius = [32,12,23,45,67]\n",
        "list(map(lambda x : ((x*9/5)+32) , celsius))"
      ],
      "metadata": {
        "colab": {
          "base_uri": "https://localhost:8080/"
        },
        "id": "mpjlOc2gvn15",
        "outputId": "b5c49d0e-08ea-4f7e-d700-0f0a0f8f0884"
      },
      "execution_count": null,
      "outputs": [
        {
          "output_type": "execute_result",
          "data": {
            "text/plain": [
              "[89.6, 53.6, 73.4, 113.0, 152.6]"
            ]
          },
          "metadata": {},
          "execution_count": 5
        }
      ]
    },
    {
      "cell_type": "code",
      "source": [
        "# 10. Create a Python program that uses `filter()` to remove all the vowels from a given string.\n",
        "\n",
        "\n",
        "def remove_vowels(name):\n",
        "    # Define a function to check if a character is not a vowel\n",
        "    # We'll use this as our filter condition\n",
        "    is_not_vowel = lambda char: char.lower() not in 'aeiou'\n",
        "\n",
        "    # Use filter() to keep only non-vowel characters\n",
        "    filtered_chars = filter(is_not_vowel, name)\n",
        "\n",
        "    # Join the filtered characters back into a string\n",
        "    result = ''.join(filtered_chars)\n",
        "\n",
        "    return result\n"
      ],
      "metadata": {
        "id": "NogvdFo9v9XY"
      },
      "execution_count": null,
      "outputs": []
    },
    {
      "cell_type": "code",
      "source": [
        "# 11) Imagine an accounting routine used in a book shop. It works on a list with sublists, which look like this:\n",
        "\n",
        "'''Write a Python program, which returns a list with 2-tuples. Each tuple consists of the order number and the\n",
        "product of the price per item and the quantity. The product should be increased by 10,- € if the value of the\n",
        "order is smaller than 100,00 €.\n",
        "\n",
        "Write a Python program using lambda and map.'''\n",
        "\n",
        "\n",
        "order_1 = [345857 ,98762 , 77226 , 88112]\n",
        "Quantity = [4,5,3,3]\n",
        "price_1 = [40.95 , 56.80 , 32.95 , 24.99]\n",
        "total_price = list(map(lambda x , y : x*y ,Quantity , price_1))\n",
        "print(total_price)\n",
        "progressed_price = list(map(lambda x:x+10 if x<10000 else x , total_price))\n",
        "print(progressed_price)\n",
        "list(map(lambda x,y : (x,y) , order_1 , progressed_price))\n",
        "\n",
        "\n",
        "\n",
        "\n"
      ],
      "metadata": {
        "colab": {
          "base_uri": "https://localhost:8080/"
        },
        "id": "W9dkcwjJ2Ejl",
        "outputId": "bb61dd56-e8fb-4ef7-e6f7-998ae120725f"
      },
      "execution_count": null,
      "outputs": [
        {
          "output_type": "stream",
          "name": "stdout",
          "text": [
            "[163.8, 284.0, 98.85000000000001, 74.97]\n",
            "[173.8, 294.0, 108.85000000000001, 84.97]\n"
          ]
        },
        {
          "output_type": "execute_result",
          "data": {
            "text/plain": [
              "[(345857, 173.8), (98762, 294.0), (77226, 108.85000000000001), (88112, 84.97)]"
            ]
          },
          "metadata": {},
          "execution_count": 13
        }
      ]
    }
  ],
  "metadata": {
    "colab": {
      "provenance": []
    },
    "kernelspec": {
      "display_name": "Python 3",
      "name": "python3"
    }
  },
  "nbformat": 4,
  "nbformat_minor": 0
}